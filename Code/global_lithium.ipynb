{
 "cells": [
  {
   "cell_type": "code",
   "execution_count": 1,
   "id": "e1e3b549",
   "metadata": {},
   "outputs": [],
   "source": [
    "# Import libraries\n",
    "import pandas as pd\n",
    "import numpy as np\n",
    "import os\n",
    "import requests\n",
    "import tabula as tb\n",
    "import string\n",
    "import matplotlib.pyplot as plt\n",
    "import seaborn as sns\n",
    "import matplotlib.ticker as ticker\n",
    "import bar_chart_race as bcr\n",
    "from bs4 import BeautifulSoup\n",
    "\n",
    "import warnings\n",
    "warnings.filterwarnings(\"ignore\")"
   ]
  },
  {
   "cell_type": "markdown",
   "id": "6056d14b",
   "metadata": {},
   "source": [
    "## Web Scraping"
   ]
  },
  {
   "cell_type": "code",
   "execution_count": 2,
   "id": "1c8a3b26",
   "metadata": {},
   "outputs": [
    {
     "name": "stdout",
     "output_type": "stream",
     "text": [
      "Downloaded 28 files.\n"
     ]
    }
   ],
   "source": [
    "# Set the URL to scrape\n",
    "url = 'https://www.usgs.gov/centers/national-minerals-information-center/lithium-statistics-and-information'\n",
    "\n",
    "# Set the path to the directory \n",
    "path = 'pdf_files/'\n",
    "\n",
    "# Create the directory if it does not exist\n",
    "if not os.path.exists(path):\n",
    "    os.makedirs(path)\n",
    "\n",
    "# Make a request to the web page and get its HTML\n",
    "response = requests.get(url)\n",
    "\n",
    "# Store the HTML page\n",
    "soup = BeautifulSoup(response.content, 'html.parser')\n",
    "\n",
    "# Find all the links on the page\n",
    "links = soup.find_all('a')\n",
    "\n",
    "# Find the link before the specified href\n",
    "end_href = 'https://d9-wret.s3.us-west-2.amazonaws.com/assets/palladium/production/mineral-pubs/lithium/450494.pdf'\n",
    "end_link = soup.find('a', href = end_href)\n",
    "\n",
    "# Loop through the links and download the PDF files\n",
    "count = 0\n",
    "for link in links:\n",
    "    # Check if the link points to a PDF file\n",
    "    if link.get('href') and link.get('href').endswith('.pdf'):\n",
    "        # Check if we have reached the end link\n",
    "        if link == end_link:\n",
    "            break\n",
    "        \n",
    "        # Get the URL of the PDF file\n",
    "        pdf_url = link.get('href')\n",
    "        \n",
    "        # Download the PDF file\n",
    "        response = requests.get(pdf_url)\n",
    "        \n",
    "        # Save the PDF file to the directory\n",
    "        year = link.text.strip()\n",
    "        file_name = f'lithium_{year}.pdf'\n",
    "        with open(os.path.join(path, file_name), 'wb') as f:\n",
    "            f.write(response.content)\n",
    "        \n",
    "        # Increment the file count\n",
    "        count += 1\n",
    "\n",
    "print(f'Downloaded {count} files.')"
   ]
  },
  {
   "cell_type": "markdown",
   "id": "85371d23",
   "metadata": {},
   "source": [
    "## Data Wrangling"
   ]
  },
  {
   "cell_type": "code",
   "execution_count": 3,
   "id": "3126e3ac",
   "metadata": {},
   "outputs": [
    {
     "data": {
      "text/html": [
       "<div>\n",
       "<style scoped>\n",
       "    .dataframe tbody tr th:only-of-type {\n",
       "        vertical-align: middle;\n",
       "    }\n",
       "\n",
       "    .dataframe tbody tr th {\n",
       "        vertical-align: top;\n",
       "    }\n",
       "\n",
       "    .dataframe thead th {\n",
       "        text-align: right;\n",
       "    }\n",
       "</style>\n",
       "<table border=\"1\" class=\"dataframe\">\n",
       "  <thead>\n",
       "    <tr style=\"text-align: right;\">\n",
       "      <th></th>\n",
       "      <th>0</th>\n",
       "      <th>1</th>\n",
       "      <th>2</th>\n",
       "      <th>3</th>\n",
       "    </tr>\n",
       "  </thead>\n",
       "  <tbody>\n",
       "    <tr>\n",
       "      <th>0</th>\n",
       "      <td>NaN</td>\n",
       "      <td>Mine production</td>\n",
       "      <td>Reserves4</td>\n",
       "      <td>Reserve base4</td>\n",
       "    </tr>\n",
       "    <tr>\n",
       "      <th>1</th>\n",
       "      <td>NaN</td>\n",
       "      <td>1994 1995e</td>\n",
       "      <td>NaN</td>\n",
       "      <td>NaN</td>\n",
       "    </tr>\n",
       "    <tr>\n",
       "      <th>2</th>\n",
       "      <td>United States</td>\n",
       "      <td>W W</td>\n",
       "      <td>340,000</td>\n",
       "      <td>410,000</td>\n",
       "    </tr>\n",
       "    <tr>\n",
       "      <th>3</th>\n",
       "      <td>Argentinae</td>\n",
       "      <td>8 8</td>\n",
       "      <td>NA</td>\n",
       "      <td>NA</td>\n",
       "    </tr>\n",
       "    <tr>\n",
       "      <th>4</th>\n",
       "      <td>Australiae</td>\n",
       "      <td>1,700 1,800</td>\n",
       "      <td>370,000</td>\n",
       "      <td>440,000</td>\n",
       "    </tr>\n",
       "  </tbody>\n",
       "</table>\n",
       "</div>"
      ],
      "text/plain": [
       "               0                1          2              3\n",
       "0            NaN  Mine production  Reserves4  Reserve base4\n",
       "1            NaN       1994 1995e        NaN            NaN\n",
       "2  United States              W W    340,000        410,000\n",
       "3     Argentinae              8 8         NA             NA\n",
       "4     Australiae      1,700 1,800    370,000        440,000"
      ]
     },
     "execution_count": 3,
     "metadata": {},
     "output_type": "execute_result"
    }
   ],
   "source": [
    "# Read the pdf file\n",
    "path = 'pdf_files/'\n",
    "file_name = 'lithium_1996.pdf'\n",
    "data = tb.read_pdf(path + file_name, pages = '2', pandas_options = {'header': None})\n",
    "\n",
    "# Initialize an empty list to store the dataframes\n",
    "dfs = []\n",
    "\n",
    "# Loop through the tables in the data and convert them to dataframes\n",
    "for table in data:\n",
    "    df = pd.DataFrame(table)\n",
    "    dfs.append(df)\n",
    "\n",
    "# Concatenate the dataframes\n",
    "df = pd.concat(dfs, ignore_index = True)\n",
    "df.head()"
   ]
  },
  {
   "cell_type": "code",
   "execution_count": 4,
   "id": "f7d5bd90",
   "metadata": {},
   "outputs": [
    {
     "data": {
      "text/html": [
       "<div>\n",
       "<style scoped>\n",
       "    .dataframe tbody tr th:only-of-type {\n",
       "        vertical-align: middle;\n",
       "    }\n",
       "\n",
       "    .dataframe tbody tr th {\n",
       "        vertical-align: top;\n",
       "    }\n",
       "\n",
       "    .dataframe thead th {\n",
       "        text-align: right;\n",
       "    }\n",
       "</style>\n",
       "<table border=\"1\" class=\"dataframe\">\n",
       "  <thead>\n",
       "    <tr style=\"text-align: right;\">\n",
       "      <th></th>\n",
       "      <th>A-1</th>\n",
       "      <th>Z</th>\n",
       "    </tr>\n",
       "  </thead>\n",
       "  <tbody>\n",
       "    <tr>\n",
       "      <th>0</th>\n",
       "      <td>United</td>\n",
       "      <td>340,000</td>\n",
       "    </tr>\n",
       "    <tr>\n",
       "      <th>1</th>\n",
       "      <td>Argentinae</td>\n",
       "      <td>NA</td>\n",
       "    </tr>\n",
       "    <tr>\n",
       "      <th>2</th>\n",
       "      <td>Australiae</td>\n",
       "      <td>370,000</td>\n",
       "    </tr>\n",
       "    <tr>\n",
       "      <th>3</th>\n",
       "      <td>Bolivia</td>\n",
       "      <td>—</td>\n",
       "    </tr>\n",
       "    <tr>\n",
       "      <th>4</th>\n",
       "      <td>Brazil</td>\n",
       "      <td>910</td>\n",
       "    </tr>\n",
       "  </tbody>\n",
       "</table>\n",
       "</div>"
      ],
      "text/plain": [
       "          A-1        Z\n",
       "0      United  340,000\n",
       "1  Argentinae       NA\n",
       "2  Australiae  370,000\n",
       "3     Bolivia        —\n",
       "4      Brazil      910"
      ]
     },
     "execution_count": 4,
     "metadata": {},
     "output_type": "execute_result"
    }
   ],
   "source": [
    "# Create list of new column names\n",
    "new_cols = list(string.ascii_uppercase)[:len(df.columns)]\n",
    "\n",
    "# Move column names to first row\n",
    "df = (df.T.reset_index().T.reset_index(drop = True).set_axis(new_cols, axis=1))\n",
    "\n",
    "# Find \"Reserves\" word in the data frame\n",
    "reserves_columns = df.columns[df.apply(lambda x: x.astype(str).str.contains('Reserves').any(), axis=0)]\n",
    "\n",
    "# Split the text in the 'Reserves' columns and store the last word in a new column 'Z'\n",
    "if len(reserves_columns) > 0:\n",
    "    for col in reserves_columns:\n",
    "        df['Z'] = df[col].str.split().str[-1]\n",
    "    \n",
    "# Select not NaN and not 0\n",
    "df = df[(df['A'].notna()) & (df['A'] != 0)]\n",
    "\n",
    "# Split text in the column A and store in the new column\n",
    "df['A-1'] = df['A'].apply(lambda x: x.split(' ')[0])\n",
    "\n",
    "# Keep only columns 'A-1' and 'Z' and drop the other columns\n",
    "if 'Z' in df.columns:\n",
    "    df = df.loc[:, ['A-1', 'Z']]\n",
    "    # Reset the index\n",
    "    df.reset_index(drop = True, inplace = True)\n",
    "else:\n",
    "    # Drop the original column A\n",
    "    df.drop(columns=['A'], inplace = True)\n",
    "\n",
    "    # Get the column index of 'A-1'\n",
    "    idx1 = df.columns.get_loc('A-1')\n",
    "\n",
    "    # Rearrange the column order\n",
    "    new_cols = ['A-1'] + [col for col in df.columns if col not in ['A-1']]\n",
    "    df = df[new_cols]\n",
    "\n",
    "    # Keep the only first and last second column\n",
    "    df = df.iloc[:, [0, -2]]\n",
    "    df.columns = ['A-1', 'Z']\n",
    "    \n",
    "df.head()"
   ]
  },
  {
   "cell_type": "code",
   "execution_count": 5,
   "id": "1e72e029",
   "metadata": {},
   "outputs": [
    {
     "data": {
      "text/html": [
       "<div>\n",
       "<style scoped>\n",
       "    .dataframe tbody tr th:only-of-type {\n",
       "        vertical-align: middle;\n",
       "    }\n",
       "\n",
       "    .dataframe tbody tr th {\n",
       "        vertical-align: top;\n",
       "    }\n",
       "\n",
       "    .dataframe thead th {\n",
       "        text-align: right;\n",
       "    }\n",
       "</style>\n",
       "<table border=\"1\" class=\"dataframe\">\n",
       "  <thead>\n",
       "    <tr style=\"text-align: right;\">\n",
       "      <th></th>\n",
       "      <th>A-1</th>\n",
       "      <th>Z</th>\n",
       "    </tr>\n",
       "  </thead>\n",
       "  <tbody>\n",
       "    <tr>\n",
       "      <th>0</th>\n",
       "      <td>United</td>\n",
       "      <td>340,000</td>\n",
       "    </tr>\n",
       "    <tr>\n",
       "      <th>1</th>\n",
       "      <td>Argentinae</td>\n",
       "      <td>NA</td>\n",
       "    </tr>\n",
       "    <tr>\n",
       "      <th>2</th>\n",
       "      <td>Australiae</td>\n",
       "      <td>370,000</td>\n",
       "    </tr>\n",
       "    <tr>\n",
       "      <th>3</th>\n",
       "      <td>Bolivia</td>\n",
       "      <td>—</td>\n",
       "    </tr>\n",
       "    <tr>\n",
       "      <th>4</th>\n",
       "      <td>Brazil</td>\n",
       "      <td>910</td>\n",
       "    </tr>\n",
       "    <tr>\n",
       "      <th>5</th>\n",
       "      <td>Canada</td>\n",
       "      <td>180,000</td>\n",
       "    </tr>\n",
       "    <tr>\n",
       "      <th>6</th>\n",
       "      <td>Chile</td>\n",
       "      <td>1,300,000</td>\n",
       "    </tr>\n",
       "    <tr>\n",
       "      <th>7</th>\n",
       "      <td>China5</td>\n",
       "      <td>NA</td>\n",
       "    </tr>\n",
       "    <tr>\n",
       "      <th>8</th>\n",
       "      <td>Namibiae</td>\n",
       "      <td>NA</td>\n",
       "    </tr>\n",
       "    <tr>\n",
       "      <th>9</th>\n",
       "      <td>Portugal</td>\n",
       "      <td>NA</td>\n",
       "    </tr>\n",
       "    <tr>\n",
       "      <th>10</th>\n",
       "      <td>Russia5</td>\n",
       "      <td>NA</td>\n",
       "    </tr>\n",
       "    <tr>\n",
       "      <th>11</th>\n",
       "      <td>Zaire</td>\n",
       "      <td>—</td>\n",
       "    </tr>\n",
       "    <tr>\n",
       "      <th>12</th>\n",
       "      <td>Zimbabwe</td>\n",
       "      <td>23,000</td>\n",
       "    </tr>\n",
       "    <tr>\n",
       "      <th>13</th>\n",
       "      <td>World</td>\n",
       "      <td>72,200,000</td>\n",
       "    </tr>\n",
       "  </tbody>\n",
       "</table>\n",
       "</div>"
      ],
      "text/plain": [
       "           A-1           Z\n",
       "0       United     340,000\n",
       "1   Argentinae          NA\n",
       "2   Australiae     370,000\n",
       "3      Bolivia           —\n",
       "4       Brazil         910\n",
       "5       Canada     180,000\n",
       "6        Chile   1,300,000\n",
       "7       China5          NA\n",
       "8     Namibiae          NA\n",
       "9     Portugal          NA\n",
       "10     Russia5          NA\n",
       "11       Zaire           —\n",
       "12    Zimbabwe      23,000\n",
       "13       World  72,200,000"
      ]
     },
     "execution_count": 5,
     "metadata": {},
     "output_type": "execute_result"
    }
   ],
   "source": [
    "# Find the row containing the keyword\n",
    "row_index = df.index[df['A-1'].str.contains('United')].tolist()[0]\n",
    "\n",
    "# Extract all rows below the row containing the keyword\n",
    "result_df = df.loc[row_index:]\n",
    "result_df"
   ]
  },
  {
   "cell_type": "markdown",
   "id": "b85bc759",
   "metadata": {},
   "source": [
    "## Apply Function"
   ]
  },
  {
   "cell_type": "code",
   "execution_count": 6,
   "id": "9e4e3187",
   "metadata": {},
   "outputs": [],
   "source": [
    "def process_pdf_file(file_path):\n",
    "    lithium_files = ['lithium_1997.pdf']\n",
    "    if os.path.basename(file_path) in lithium_files:\n",
    "        # Read the pdf file with specific area\n",
    "        data = tb.read_pdf(file_path, pages = '2', pandas_options = {'header': None}, area = (308.67, 29.37, 439.04, 568.7))\n",
    "    else:\n",
    "        # Read the pdf file without specific area\n",
    "        data = tb.read_pdf(file_path, pages = '2', pandas_options = {'header': None})\n",
    "\n",
    "    # Initialize an empty list to store the dataframes\n",
    "    dfs = []\n",
    "\n",
    "    # Loop through the tables in the data and convert them to dataframes\n",
    "    for table in data:\n",
    "        df = pd.DataFrame(table)\n",
    "        dfs.append(df)\n",
    "\n",
    "    # Concatenate the dataframes\n",
    "    df = pd.concat(dfs, ignore_index=True)\n",
    "    \n",
    "    # Create list of new column names\n",
    "    new_cols = list(string.ascii_uppercase)[:len(df.columns)]\n",
    "\n",
    "    # Move column names to first row\n",
    "    df = (df.T.reset_index().T.reset_index(drop = True).set_axis(new_cols, axis=1))\n",
    "    \n",
    "    # Find \"Reserves\" word in the data frame\n",
    "    reserves_columns = df.columns[df.apply(lambda x: x.astype(str).str.contains('Reserves').any(), axis=0)]\n",
    "\n",
    "    # Split the text in the 'Reserves' columns and store the last word in a new column 'Z'\n",
    "    if len(reserves_columns) > 0:\n",
    "        for col in reserves_columns:\n",
    "            df['Z'] = df[col].str.split().str[-1]\n",
    "\n",
    "    # Select not NaN and not 0\n",
    "    df = df[(df['A'].notna()) & (df['A'] != 0)]\n",
    "\n",
    "    # Split text in the column A and store in the new column\n",
    "    df['A-1'] = df['A'].apply(lambda x: x.split(' ')[0])\n",
    "    \n",
    "    # Keep only columns 'A-1' and 'Z' and drop the other columns\n",
    "    if 'Z' in df.columns:\n",
    "        df = df.loc[:, ['A-1', 'Z']]\n",
    "        # Reset the index\n",
    "        df.reset_index(drop = True, inplace = True)\n",
    "    \n",
    "    else:\n",
    "        # Drop the original column A\n",
    "        df.drop(columns=['A'], inplace = True)\n",
    "\n",
    "        # Get the column index of 'A-1'\n",
    "        idx1 = df.columns.get_loc('A-1')\n",
    "\n",
    "        # Rearrange the column order\n",
    "        new_cols = ['A-1'] + [col for col in df.columns if col not in ['A-1']]\n",
    "        df = df[new_cols]\n",
    "    \n",
    "        # Keep the only first and last second column from lithium_1996.pdf to lithium_2009.pdf\n",
    "        if \"lithium_1996.pdf\" <= os.path.basename(file_path) <= \"lithium_2010.pdf\":\n",
    "            df = df.iloc[:, [0, -2]]\n",
    "        else:\n",
    "            # Keep the only first and last column \n",
    "            df = df.iloc[:, [0, -1]]\n",
    "        \n",
    "        # Rename df columns\n",
    "        df.columns = ['A-1', 'Z']\n",
    "\n",
    "    # Find the row containing the keyword\n",
    "    row_index = df.index[df['A-1'].str.contains('United')].tolist()[0]\n",
    "\n",
    "    # Extract all rows below the row containing the keyword\n",
    "    result_df = df.loc[row_index:]\n",
    "\n",
    "    # Extract the year from the file name\n",
    "    year = os.path.basename(file_path).split('_')[1].split('.')[0]\n",
    "\n",
    "    # Add the year as a new column\n",
    "    result_df['year'] = year\n",
    "\n",
    "    return result_df"
   ]
  },
  {
   "cell_type": "code",
   "execution_count": 7,
   "id": "72572234",
   "metadata": {},
   "outputs": [
    {
     "name": "stderr",
     "output_type": "stream",
     "text": [
      "Got stderr: Mar 24, 2023 10:17:24 PM org.apache.pdfbox.pdmodel.font.PDTrueTypeFont <init>\n",
      "WARNING: Using fallback font 'Arial-BoldMT' for 'Arial-Bold'\n",
      "\n",
      "Got stderr: Mar 24, 2023 10:17:25 PM org.apache.pdfbox.pdmodel.font.PDTrueTypeFont <init>\n",
      "WARNING: Using fallback font 'Arial-BoldMT' for 'Arial-Bold'\n",
      "Mar 24, 2023 10:17:26 PM org.apache.pdfbox.pdmodel.font.PDTrueTypeFont <init>\n",
      "WARNING: Using fallback font 'Arial-BoldMT' for 'Arial-Bold'\n",
      "\n"
     ]
    },
    {
     "data": {
      "text/html": [
       "<div>\n",
       "<style scoped>\n",
       "    .dataframe tbody tr th:only-of-type {\n",
       "        vertical-align: middle;\n",
       "    }\n",
       "\n",
       "    .dataframe tbody tr th {\n",
       "        vertical-align: top;\n",
       "    }\n",
       "\n",
       "    .dataframe thead th {\n",
       "        text-align: right;\n",
       "    }\n",
       "</style>\n",
       "<table border=\"1\" class=\"dataframe\">\n",
       "  <thead>\n",
       "    <tr style=\"text-align: right;\">\n",
       "      <th></th>\n",
       "      <th>A-1</th>\n",
       "      <th>Z</th>\n",
       "      <th>year</th>\n",
       "    </tr>\n",
       "  </thead>\n",
       "  <tbody>\n",
       "    <tr>\n",
       "      <th>0</th>\n",
       "      <td>United</td>\n",
       "      <td>340,000</td>\n",
       "      <td>1996</td>\n",
       "    </tr>\n",
       "    <tr>\n",
       "      <th>1</th>\n",
       "      <td>Argentinae</td>\n",
       "      <td>NA</td>\n",
       "      <td>1996</td>\n",
       "    </tr>\n",
       "    <tr>\n",
       "      <th>2</th>\n",
       "      <td>Australiae</td>\n",
       "      <td>370,000</td>\n",
       "      <td>1996</td>\n",
       "    </tr>\n",
       "    <tr>\n",
       "      <th>3</th>\n",
       "      <td>Bolivia</td>\n",
       "      <td>—</td>\n",
       "      <td>1996</td>\n",
       "    </tr>\n",
       "    <tr>\n",
       "      <th>4</th>\n",
       "      <td>Brazil</td>\n",
       "      <td>910</td>\n",
       "      <td>1996</td>\n",
       "    </tr>\n",
       "  </tbody>\n",
       "</table>\n",
       "</div>"
      ],
      "text/plain": [
       "          A-1        Z  year\n",
       "0      United  340,000  1996\n",
       "1  Argentinae       NA  1996\n",
       "2  Australiae  370,000  1996\n",
       "3     Bolivia        —  1996\n",
       "4      Brazil      910  1996"
      ]
     },
     "execution_count": 7,
     "metadata": {},
     "output_type": "execute_result"
    }
   ],
   "source": [
    "# Set the path to the directory \n",
    "path = 'pdf_files/'\n",
    "\n",
    "# Create the directory if it does not exist\n",
    "if not os.path.exists(path):\n",
    "    os.makedirs(path)\n",
    "\n",
    "# Loop through the files in the directory\n",
    "dataframes = []\n",
    "for file_name in os.listdir(path):\n",
    "    if file_name.endswith('.pdf'):\n",
    "        file_path = os.path.join(path, file_name)\n",
    "        #print(\"Processing file:\", file_path)\n",
    "        df = process_pdf_file(file_path)\n",
    "        #print(\"Resulting dataframe:\", df)\n",
    "        dataframes.append(df)\n",
    "\n",
    "# Concatenate all the dataframes into a single dataframe\n",
    "final_df = pd.concat(dataframes, ignore_index = True)\n",
    "final_df.head()"
   ]
  },
  {
   "cell_type": "markdown",
   "id": "535c78ac",
   "metadata": {},
   "source": [
    "## Data Cleaning and Manipulation"
   ]
  },
  {
   "cell_type": "code",
   "execution_count": 8,
   "id": "7a139071",
   "metadata": {},
   "outputs": [
    {
     "name": "stdout",
     "output_type": "stream",
     "text": [
      "<class 'pandas.core.frame.DataFrame'>\n",
      "RangeIndex: 282 entries, 0 to 281\n",
      "Data columns (total 3 columns):\n",
      " #   Column  Non-Null Count  Dtype \n",
      "---  ------  --------------  ----- \n",
      " 0   A-1     282 non-null    object\n",
      " 1   Z       282 non-null    object\n",
      " 2   year    282 non-null    object\n",
      "dtypes: object(3)\n",
      "memory usage: 6.7+ KB\n"
     ]
    },
    {
     "data": {
      "text/plain": [
       "0"
      ]
     },
     "execution_count": 8,
     "metadata": {},
     "output_type": "execute_result"
    }
   ],
   "source": [
    "# See the data info\n",
    "final_df.info()\n",
    "\n",
    "# Check null values in the data frame\n",
    "final_df.isnull().values.sum()"
   ]
  },
  {
   "cell_type": "code",
   "execution_count": 9,
   "id": "caaed5a1",
   "metadata": {},
   "outputs": [
    {
     "data": {
      "text/html": [
       "<div>\n",
       "<style scoped>\n",
       "    .dataframe tbody tr th:only-of-type {\n",
       "        vertical-align: middle;\n",
       "    }\n",
       "\n",
       "    .dataframe tbody tr th {\n",
       "        vertical-align: top;\n",
       "    }\n",
       "\n",
       "    .dataframe thead th {\n",
       "        text-align: right;\n",
       "    }\n",
       "</style>\n",
       "<table border=\"1\" class=\"dataframe\">\n",
       "  <thead>\n",
       "    <tr style=\"text-align: right;\">\n",
       "      <th></th>\n",
       "      <th>Country</th>\n",
       "      <th>Reserves</th>\n",
       "      <th>Year</th>\n",
       "    </tr>\n",
       "  </thead>\n",
       "  <tbody>\n",
       "    <tr>\n",
       "      <th>0</th>\n",
       "      <td>United</td>\n",
       "      <td>340,000</td>\n",
       "      <td>1996</td>\n",
       "    </tr>\n",
       "    <tr>\n",
       "      <th>1</th>\n",
       "      <td>Argentinae</td>\n",
       "      <td>NA</td>\n",
       "      <td>1996</td>\n",
       "    </tr>\n",
       "    <tr>\n",
       "      <th>2</th>\n",
       "      <td>Australiae</td>\n",
       "      <td>370,000</td>\n",
       "      <td>1996</td>\n",
       "    </tr>\n",
       "    <tr>\n",
       "      <th>3</th>\n",
       "      <td>Bolivia</td>\n",
       "      <td>—</td>\n",
       "      <td>1996</td>\n",
       "    </tr>\n",
       "    <tr>\n",
       "      <th>4</th>\n",
       "      <td>Brazil</td>\n",
       "      <td>910</td>\n",
       "      <td>1996</td>\n",
       "    </tr>\n",
       "  </tbody>\n",
       "</table>\n",
       "</div>"
      ],
      "text/plain": [
       "      Country Reserves  Year\n",
       "0      United  340,000  1996\n",
       "1  Argentinae       NA  1996\n",
       "2  Australiae  370,000  1996\n",
       "3     Bolivia        —  1996\n",
       "4      Brazil      910  1996"
      ]
     },
     "execution_count": 9,
     "metadata": {},
     "output_type": "execute_result"
    }
   ],
   "source": [
    "# Change the column names\n",
    "final_df.columns = ['Country', 'Reserves', 'Year']\n",
    "final_df.head()"
   ]
  },
  {
   "cell_type": "code",
   "execution_count": 10,
   "id": "06012f30",
   "metadata": {},
   "outputs": [
    {
     "data": {
      "text/plain": [
       "array(['United', 'Argentinae', 'Australiae', 'Bolivia', 'Brazil',\n",
       "       'Canada', 'Chile', 'China5', 'Namibiae', 'Portugal', 'Russia5',\n",
       "       'Zaire', 'Zimbabwe', 'World', 'eArgentina', 'eAustralia', '5China',\n",
       "       'eNamibia', 'China', 'Russiae', 'Russia', 'Argentina', 'Australia',\n",
       "       'China4', 'Namibia', 'Other7', 'Other'], dtype=object)"
      ]
     },
     "execution_count": 10,
     "metadata": {},
     "output_type": "execute_result"
    }
   ],
   "source": [
    "# Get the unique values from the country column\n",
    "final_df['Country'].unique()"
   ]
  },
  {
   "cell_type": "code",
   "execution_count": 11,
   "id": "bf766990",
   "metadata": {},
   "outputs": [
    {
     "data": {
      "text/plain": [
       "array(['United', 'Argentina', 'Australia', 'Bolivia', 'Brazil', 'Canada',\n",
       "       'Chile', 'China', 'Namibia', 'Portugal', 'Russia', 'Zaire',\n",
       "       'Zimbabwe', 'World', 'Other7', 'Other'], dtype=object)"
      ]
     },
     "execution_count": 11,
     "metadata": {},
     "output_type": "execute_result"
    }
   ],
   "source": [
    "# Define the country names and their patterns\n",
    "countries = {\n",
    "    'Argentina': r\"^(e|\\d)?Argentina(e|\\d)?$\",\n",
    "    'Australia': r\"^(e|\\d)?Australia(e|\\d)?$\",\n",
    "    'China': r\"^(e|\\d)?China(e|\\d)?$\",\n",
    "    'Namibia': r\"^(e|\\d)?Namibia(e|\\d)?$\",\n",
    "    'Russia': r\"^(e|\\d)?Russia(e|\\d)?$\",\n",
    "}\n",
    "\n",
    "# Define a function to replace country names in the country column\n",
    "def replace_country_names(column):\n",
    "    for country, pattern in countries.items():\n",
    "        # Use regular expressions to match the pattern and replace with country names\n",
    "        column = column.str.replace(pattern, country)\n",
    "    return column\n",
    "\n",
    "# Call the function\n",
    "final_df['Country'] = replace_country_names(final_df['Country'])\n",
    "final_df['Country'].unique()"
   ]
  },
  {
   "cell_type": "code",
   "execution_count": 12,
   "id": "e5024018",
   "metadata": {},
   "outputs": [],
   "source": [
    "# Change 'United' to 'United States' in the country column\n",
    "final_df['Country'] = final_df['Country'].replace('United', 'United States', regex = True)\n",
    "\n",
    "# Change 'Zaire' to 'Democratic Republic of the Congo' in the country column\n",
    "final_df['Country'] = final_df['Country'].replace('Zaire', 'Democratic Republic of the Congo', regex = True)"
   ]
  },
  {
   "cell_type": "code",
   "execution_count": 13,
   "id": "ef0930c2",
   "metadata": {},
   "outputs": [
    {
     "data": {
      "text/plain": [
       "array(['United States', 'Argentina', 'Australia', 'Bolivia', 'Brazil',\n",
       "       'Canada', 'Chile', 'China', 'Namibia', 'Portugal', 'Russia',\n",
       "       'Democratic Republic of the Congo', 'Zimbabwe'], dtype=object)"
      ]
     },
     "execution_count": 13,
     "metadata": {},
     "output_type": "execute_result"
    }
   ],
   "source": [
    "# Drop unwanted values from the country column\n",
    "final_df = final_df[~final_df['Country'].isin(['World', 'Other', 'Other7'])]\n",
    "final_df['Country'].unique()"
   ]
  },
  {
   "cell_type": "code",
   "execution_count": 14,
   "id": "9fca0dec",
   "metadata": {},
   "outputs": [
    {
     "data": {
      "text/plain": [
       "array(['340,000', 'NA', '370,000', '—', '910', '180,000', '1,300,000',\n",
       "       '23,000', '150,000', '3,000,000', '38,000', '160,000', '190,000',\n",
       "       '540,000', '170,000', '800,000', '580,000', '7,500,000', '850,000',\n",
       "       '64,000', '3,500,000', '10,000', '970,000', '1,000,000', '46,000',\n",
       "       '60,000', '1,500,000', '48,000', '2,000,000', '3,200,000',\n",
       "       '1,600,000', '35,000', '72,700,000', '54,000', '8,000,000',\n",
       "       '70,000', '630,000', '1,700,000', '62,800,000', '95,000',\n",
       "       '8,600,000', '230,000', '750,000', '1,900,000', '64,700,000',\n",
       "       '530,000', '9,200,000', '220,000', '2,200,000', '75,700,000',\n",
       "       '2,700,000', '76,200,000', '250,000', '930,000', '9,300,000',\n",
       "       '310,000'], dtype=object)"
      ]
     },
     "execution_count": 14,
     "metadata": {},
     "output_type": "execute_result"
    }
   ],
   "source": [
    "# Check column reserves\n",
    "final_df['Reserves'].unique()"
   ]
  },
  {
   "cell_type": "code",
   "execution_count": 15,
   "id": "68bef391",
   "metadata": {},
   "outputs": [],
   "source": [
    "# Drop unwanted characters\n",
    "final_df['Reserves'] = final_df['Reserves'].replace('NA', np.nan, regex = True)\n",
    "final_df['Reserves'] = final_df['Reserves'].replace('—', np.nan, regex = True)\n",
    "final_df['Reserves'] = final_df['Reserves'].replace(',', '', regex = True)"
   ]
  },
  {
   "cell_type": "code",
   "execution_count": 16,
   "id": "94cd8655",
   "metadata": {},
   "outputs": [
    {
     "name": "stdout",
     "output_type": "stream",
     "text": [
      "<class 'pandas.core.frame.DataFrame'>\n",
      "Int64Index: 263 entries, 0 to 279\n",
      "Data columns (total 3 columns):\n",
      " #   Column    Non-Null Count  Dtype  \n",
      "---  ------    --------------  -----  \n",
      " 0   Country   263 non-null    object \n",
      " 1   Reserves  203 non-null    float64\n",
      " 2   Year      263 non-null    int64  \n",
      "dtypes: float64(1), int64(1), object(1)\n",
      "memory usage: 8.2+ KB\n"
     ]
    }
   ],
   "source": [
    "# Convert columns data type\n",
    "final_df[['Reserves', 'Year']] = final_df[['Reserves', 'Year']].apply(pd.to_numeric)\n",
    "final_df.info()"
   ]
  },
  {
   "cell_type": "code",
   "execution_count": 17,
   "id": "e1705209",
   "metadata": {},
   "outputs": [],
   "source": [
    "# List of countries to check\n",
    "countries = ['United States', 'Argentina', 'Australia', 'Bolivia', 'Brazil', 'Canada', 'Chile', 'China', 'Namibia', \n",
    "             'Portugal', 'Russia', 'Democratic Republic of the Congo', 'Zimbabwe']\n",
    "\n",
    "# Loop through years\n",
    "for year in range(1996, 2024):\n",
    "    # Get countries in the current year\n",
    "    current_countries = final_df[final_df['Year'] == year]['Country'].unique()\n",
    "    # Loop through countries\n",
    "    for country in countries:\n",
    "        # Check if the country is not in the current year\n",
    "        if country not in current_countries:\n",
    "            # Append the country to the DataFrame\n",
    "            final_df = final_df.append({'Country': country, 'Reserves': np.nan, 'Year': year}, ignore_index = True)\n",
    "\n",
    "# Sort by year in ascending order\n",
    "final_df = final_df.groupby('Year').apply(lambda x: x.sort_values('Country', ascending = True)).reset_index(drop = True)\n",
    "\n",
    "# Fill NaN reserve values with previous year's value\n",
    "for country in countries:\n",
    "    final_df.loc[final_df['Country'] == country, 'Reserves'] = final_df.loc[final_df['Country'] == country, 'Reserves'] \\\n",
    "    .fillna(method = 'ffill')"
   ]
  },
  {
   "cell_type": "code",
   "execution_count": 18,
   "id": "9ca78f66",
   "metadata": {},
   "outputs": [
    {
     "name": "stdout",
     "output_type": "stream",
     "text": [
      "The following countries have all NaN reserves: Bolivia, Democratic Republic of the Congo, Namibia, Russia\n"
     ]
    }
   ],
   "source": [
    "# Find countries with all NaN reserves\n",
    "all_nan_countries = final_df.groupby('Country')['Reserves'].apply(lambda x: x.isna().sum() \\\n",
    "                                                                  == len(x)).loc[lambda x: x].index.tolist()\n",
    "\n",
    "if all_nan_countries:\n",
    "    print(f\"The following countries have all NaN reserves: {', '.join(all_nan_countries)}\")\n",
    "else:\n",
    "    print(\"No country has all NaN reserves.\")"
   ]
  },
  {
   "cell_type": "code",
   "execution_count": 19,
   "id": "57208016",
   "metadata": {},
   "outputs": [
    {
     "data": {
      "text/plain": [
       "array(['Argentina', 'Australia', 'Brazil', 'Canada', 'Chile', 'China',\n",
       "       'Portugal', 'United States', 'Zimbabwe'], dtype=object)"
      ]
     },
     "execution_count": 19,
     "metadata": {},
     "output_type": "execute_result"
    }
   ],
   "source": [
    "# Drop some countries from the country column\n",
    "final_df = final_df[~final_df['Country'].isin(['Bolivia', 'Democratic Republic of the Congo', 'Namibia', 'Russia'])]\n",
    "final_df['Country'].unique()"
   ]
  },
  {
   "cell_type": "code",
   "execution_count": 20,
   "id": "3c006dcd",
   "metadata": {},
   "outputs": [
    {
     "name": "stdout",
     "output_type": "stream",
     "text": [
      "Country      0\n",
      "Reserves    36\n",
      "Year         0\n",
      "dtype: int64\n",
      "<class 'pandas.core.frame.DataFrame'>\n",
      "Int64Index: 252 entries, 0 to 363\n",
      "Data columns (total 3 columns):\n",
      " #   Column    Non-Null Count  Dtype  \n",
      "---  ------    --------------  -----  \n",
      " 0   Country   252 non-null    object \n",
      " 1   Reserves  216 non-null    float64\n",
      " 2   Year      252 non-null    int64  \n",
      "dtypes: float64(1), int64(1), object(1)\n",
      "memory usage: 7.9+ KB\n",
      "None\n"
     ]
    }
   ],
   "source": [
    "# Check NaN values in the data frame\n",
    "print(final_df.isna().sum())\n",
    "\n",
    "# Check df info\n",
    "print(final_df.info())"
   ]
  },
  {
   "cell_type": "code",
   "execution_count": 21,
   "id": "15230cc7",
   "metadata": {},
   "outputs": [
    {
     "data": {
      "text/html": [
       "<div>\n",
       "<style scoped>\n",
       "    .dataframe tbody tr th:only-of-type {\n",
       "        vertical-align: middle;\n",
       "    }\n",
       "\n",
       "    .dataframe tbody tr th {\n",
       "        vertical-align: top;\n",
       "    }\n",
       "\n",
       "    .dataframe thead th {\n",
       "        text-align: right;\n",
       "    }\n",
       "</style>\n",
       "<table border=\"1\" class=\"dataframe\">\n",
       "  <thead>\n",
       "    <tr style=\"text-align: right;\">\n",
       "      <th></th>\n",
       "      <th>Country</th>\n",
       "      <th>Reserves</th>\n",
       "      <th>Year</th>\n",
       "    </tr>\n",
       "  </thead>\n",
       "  <tbody>\n",
       "    <tr>\n",
       "      <th>0</th>\n",
       "      <td>Argentina</td>\n",
       "      <td>NaN</td>\n",
       "      <td>1996</td>\n",
       "    </tr>\n",
       "    <tr>\n",
       "      <th>1</th>\n",
       "      <td>Australia</td>\n",
       "      <td>370000.0</td>\n",
       "      <td>1996</td>\n",
       "    </tr>\n",
       "    <tr>\n",
       "      <th>3</th>\n",
       "      <td>Brazil</td>\n",
       "      <td>910.0</td>\n",
       "      <td>1996</td>\n",
       "    </tr>\n",
       "    <tr>\n",
       "      <th>4</th>\n",
       "      <td>Canada</td>\n",
       "      <td>180000.0</td>\n",
       "      <td>1996</td>\n",
       "    </tr>\n",
       "    <tr>\n",
       "      <th>5</th>\n",
       "      <td>Chile</td>\n",
       "      <td>1300000.0</td>\n",
       "      <td>1996</td>\n",
       "    </tr>\n",
       "  </tbody>\n",
       "</table>\n",
       "</div>"
      ],
      "text/plain": [
       "     Country   Reserves  Year\n",
       "0  Argentina        NaN  1996\n",
       "1  Australia   370000.0  1996\n",
       "3     Brazil      910.0  1996\n",
       "4     Canada   180000.0  1996\n",
       "5      Chile  1300000.0  1996"
      ]
     },
     "execution_count": 21,
     "metadata": {},
     "output_type": "execute_result"
    }
   ],
   "source": [
    "# View data\n",
    "final_df.head()"
   ]
  },
  {
   "cell_type": "markdown",
   "id": "baad3827",
   "metadata": {},
   "source": [
    "## Data Visualization"
   ]
  },
  {
   "cell_type": "code",
   "execution_count": 22,
   "id": "8111844e",
   "metadata": {},
   "outputs": [
    {
     "data": {
      "image/png": "[encoded data removed]",
      "text/plain": [
       "<Figure size 1080x432 with 1 Axes>"
      ]
     },
     "metadata": {},
     "output_type": "display_data"
    }
   ],
   "source": [
    "# Create time-series plot\n",
    "sns.set_style('darkgrid')\n",
    "sns.set(rc = {'figure.figsize':(15,6)})\n",
    "\n",
    "# Custom color palette\n",
    "my_palette = ['black', 'red', 'yellow', 'green', 'orange', 'cyan', 'blue', 'purple', 'olive']\n",
    "\n",
    "ax = sns.lineplot(data = final_df, x ='Year', y = 'Reserves', hue = 'Country', palette = my_palette, legend = 'full', lw = 2)\n",
    "\n",
    "ax.xaxis.set_major_locator(ticker.MultipleLocator(2))\n",
    "plt.legend(bbox_to_anchor = (1, 1))\n",
    "plt.title('Lithium Reserves by Country (1996-2023)', fontsize = 14)\n",
    "plt.ylabel('Reserves (tonnes)', fontsize = 12)\n",
    "plt.xlabel('Year', fontsize = 12)\n",
    "plt.show()"
   ]
  },
  {
   "cell_type": "code",
   "execution_count": 23,
   "id": "03c3d1ef",
   "metadata": {},
   "outputs": [
    {
     "data": {
      "text/html": [
       "<div>\n",
       "<style scoped>\n",
       "    .dataframe tbody tr th:only-of-type {\n",
       "        vertical-align: middle;\n",
       "    }\n",
       "\n",
       "    .dataframe tbody tr th {\n",
       "        vertical-align: top;\n",
       "    }\n",
       "\n",
       "    .dataframe thead th {\n",
       "        text-align: right;\n",
       "    }\n",
       "</style>\n",
       "<table border=\"1\" class=\"dataframe\">\n",
       "  <thead>\n",
       "    <tr style=\"text-align: right;\">\n",
       "      <th></th>\n",
       "      <th>Country</th>\n",
       "      <th>Reserves</th>\n",
       "      <th>Year</th>\n",
       "    </tr>\n",
       "  </thead>\n",
       "  <tbody>\n",
       "    <tr>\n",
       "      <th>274</th>\n",
       "      <td>Australia</td>\n",
       "      <td>1600000.0</td>\n",
       "      <td>2017</td>\n",
       "    </tr>\n",
       "    <tr>\n",
       "      <th>287</th>\n",
       "      <td>Australia</td>\n",
       "      <td>72700000.0</td>\n",
       "      <td>2018</td>\n",
       "    </tr>\n",
       "    <tr>\n",
       "      <th>300</th>\n",
       "      <td>Australia</td>\n",
       "      <td>72700000.0</td>\n",
       "      <td>2019</td>\n",
       "    </tr>\n",
       "    <tr>\n",
       "      <th>313</th>\n",
       "      <td>Australia</td>\n",
       "      <td>62800000.0</td>\n",
       "      <td>2020</td>\n",
       "    </tr>\n",
       "    <tr>\n",
       "      <th>326</th>\n",
       "      <td>Australia</td>\n",
       "      <td>64700000.0</td>\n",
       "      <td>2021</td>\n",
       "    </tr>\n",
       "    <tr>\n",
       "      <th>339</th>\n",
       "      <td>Australia</td>\n",
       "      <td>75700000.0</td>\n",
       "      <td>2022</td>\n",
       "    </tr>\n",
       "    <tr>\n",
       "      <th>352</th>\n",
       "      <td>Australia</td>\n",
       "      <td>76200000.0</td>\n",
       "      <td>2023</td>\n",
       "    </tr>\n",
       "  </tbody>\n",
       "</table>\n",
       "</div>"
      ],
      "text/plain": [
       "       Country    Reserves  Year\n",
       "274  Australia   1600000.0  2017\n",
       "287  Australia  72700000.0  2018\n",
       "300  Australia  72700000.0  2019\n",
       "313  Australia  62800000.0  2020\n",
       "326  Australia  64700000.0  2021\n",
       "339  Australia  75700000.0  2022\n",
       "352  Australia  76200000.0  2023"
      ]
     },
     "execution_count": 23,
     "metadata": {},
     "output_type": "execute_result"
    }
   ],
   "source": [
    "# Check australia data\n",
    "aus = final_df.loc[(final_df['Country'] == 'Australia') & (final_df['Year'] >= 2017) & (final_df['Year'] <= 2023)]\n",
    "aus"
   ]
  },
  {
   "cell_type": "code",
   "execution_count": 24,
   "id": "3286060e",
   "metadata": {},
   "outputs": [
    {
     "name": "stdout",
     "output_type": "stream",
     "text": [
      "       Country    Reserves  Year\n",
      "287  Australia  72700000.0  2018\n",
      "300  Australia  72700000.0  2019\n",
      "313  Australia  62800000.0  2020\n",
      "326  Australia  64700000.0  2021\n",
      "339  Australia  75700000.0  2022\n",
      "352  Australia  76200000.0  2023\n",
      "       Country   Reserves  Year\n",
      "287  Australia  2700000.0  2018\n",
      "300  Australia  2700000.0  2019\n",
      "313  Australia  2800000.0  2020\n",
      "326  Australia  4700000.0  2021\n",
      "339  Australia  5700000.0  2022\n",
      "352  Australia  6200000.0  2023\n"
     ]
    }
   ],
   "source": [
    "# Select australia data from year 2018-203\n",
    "aus_res = final_df.loc[(final_df['Country'] == 'Australia') & (final_df['Year'] >= 2018) & (final_df['Year'] <= 2023)]\n",
    "print(aus_res)\n",
    "\n",
    "# Remove the first number in the reserves column since it's a footnote indication\n",
    "aus_res['Reserves'] = aus_res['Reserves'].apply(lambda x: float(str(x)[1:]))\n",
    "print(aus_res)"
   ]
  },
  {
   "cell_type": "code",
   "execution_count": 25,
   "id": "23160f4c",
   "metadata": {},
   "outputs": [
    {
     "name": "stdout",
     "output_type": "stream",
     "text": [
      "       Country   Reserves  Year\n",
      "287  Australia  2700000.0  2018\n",
      "300  Australia  2700000.0  2019\n",
      "313  Australia  2800000.0  2020\n",
      "326  Australia  4700000.0  2021\n",
      "339  Australia  5700000.0  2022\n",
      "352  Australia  6200000.0  2023\n"
     ]
    }
   ],
   "source": [
    "# Insert updated values to the final df\n",
    "final_df.loc[(final_df['Country'] == 'Australia') & (final_df['Year'] >= 2018) & (final_df['Year'] <= 2023)] = aus_res\n",
    "print(final_df.loc[(final_df['Country'] == 'Australia') & (final_df['Year'] >= 2018) & (final_df['Year'] <= 2023)])"
   ]
  },
  {
   "cell_type": "code",
   "execution_count": 26,
   "id": "568e197a",
   "metadata": {},
   "outputs": [
    {
     "data": {
      "image/png": "[encoded data removed]",
      "text/plain": [
       "<Figure size 1080x432 with 1 Axes>"
      ]
     },
     "metadata": {},
     "output_type": "display_data"
    }
   ],
   "source": [
    "# Visualize time-series plot again\n",
    "sns.set_style('darkgrid')\n",
    "sns.set(rc = {'figure.figsize':(15,6)})\n",
    "\n",
    "# Custom color palette\n",
    "my_palette = ['black', 'red', 'yellow', 'green', 'orange', 'cyan', 'blue', 'purple', 'olive']\n",
    "\n",
    "ax = sns.lineplot(data = final_df, x ='Year', y = 'Reserves', hue = 'Country', palette = my_palette, legend = 'full', lw = 2)\n",
    "\n",
    "ax.xaxis.set_major_locator(ticker.MultipleLocator(2))\n",
    "plt.legend(bbox_to_anchor = (1, 1))\n",
    "plt.title('Lithium Reserves by Country (1996-2023)', fontsize = 14)\n",
    "plt.ylabel('Reserves (tonnes)', fontsize = 12)\n",
    "plt.xlabel('Year', fontsize = 12)\n",
    "plt.show()"
   ]
  },
  {
   "cell_type": "code",
   "execution_count": 27,
   "id": "2c910453",
   "metadata": {},
   "outputs": [
    {
     "data": {
      "image/png": "[encoded data removed]",
      "text/plain": [
       "<Figure size 1296x648 with 9 Axes>"
      ]
     },
     "metadata": {},
     "output_type": "display_data"
    }
   ],
   "source": [
    "# Create multiple time-series plots\n",
    "g = sns.relplot(data = final_df, x = 'Year', y = 'Reserves', col = 'Country', hue = 'Country', kind = 'line', \n",
    "                palette = my_palette, linewidth = 4, zorder = 5, col_wrap = 4, height = 3, aspect = 1.5, legend = False)\n",
    "\n",
    "# Add text and silhouettes\n",
    "for time, ax in g.axes_dict.items():\n",
    "    ax.text(0.1, 0.85, time, transform = ax.transAxes, fontweight = 'bold')\n",
    "    sns.lineplot(data = final_df, x = 'Year', y = 'Reserves', units = 'Country', estimator = None, color= '0.5', \n",
    "                 linewidth = 1, ax = ax)\n",
    "\n",
    "ax.set_xticklabels([])\n",
    "g.set_titles('')\n",
    "g.set_axis_labels('Year','Reserves (tonnes)')\n",
    "g.tight_layout()"
   ]
  },
  {
   "cell_type": "code",
   "execution_count": 28,
   "id": "7123beac",
   "metadata": {},
   "outputs": [
    {
     "data": {
      "text/html": [
       "<div>\n",
       "<style scoped>\n",
       "    .dataframe tbody tr th:only-of-type {\n",
       "        vertical-align: middle;\n",
       "    }\n",
       "\n",
       "    .dataframe tbody tr th {\n",
       "        vertical-align: top;\n",
       "    }\n",
       "\n",
       "    .dataframe thead th {\n",
       "        text-align: right;\n",
       "    }\n",
       "</style>\n",
       "<table border=\"1\" class=\"dataframe\">\n",
       "  <thead>\n",
       "    <tr style=\"text-align: right;\">\n",
       "      <th></th>\n",
       "      <th>Country</th>\n",
       "      <th>Reserves</th>\n",
       "      <th>Year</th>\n",
       "    </tr>\n",
       "  </thead>\n",
       "  <tbody>\n",
       "    <tr>\n",
       "      <th>0</th>\n",
       "      <td>Argentina</td>\n",
       "      <td>NaN</td>\n",
       "      <td>1996-01-01</td>\n",
       "    </tr>\n",
       "    <tr>\n",
       "      <th>1</th>\n",
       "      <td>Australia</td>\n",
       "      <td>370000.0</td>\n",
       "      <td>1996-01-01</td>\n",
       "    </tr>\n",
       "    <tr>\n",
       "      <th>3</th>\n",
       "      <td>Brazil</td>\n",
       "      <td>910.0</td>\n",
       "      <td>1996-01-01</td>\n",
       "    </tr>\n",
       "    <tr>\n",
       "      <th>4</th>\n",
       "      <td>Canada</td>\n",
       "      <td>180000.0</td>\n",
       "      <td>1996-01-01</td>\n",
       "    </tr>\n",
       "    <tr>\n",
       "      <th>5</th>\n",
       "      <td>Chile</td>\n",
       "      <td>1300000.0</td>\n",
       "      <td>1996-01-01</td>\n",
       "    </tr>\n",
       "  </tbody>\n",
       "</table>\n",
       "</div>"
      ],
      "text/plain": [
       "     Country   Reserves       Year\n",
       "0  Argentina        NaN 1996-01-01\n",
       "1  Australia   370000.0 1996-01-01\n",
       "3     Brazil      910.0 1996-01-01\n",
       "4     Canada   180000.0 1996-01-01\n",
       "5      Chile  1300000.0 1996-01-01"
      ]
     },
     "execution_count": 28,
     "metadata": {},
     "output_type": "execute_result"
    }
   ],
   "source": [
    "# Convert the integer column to a datetime column\n",
    "final_df['Year'] = pd.to_datetime(final_df['Year'], format = '%Y')\n",
    "final_df.head()"
   ]
  },
  {
   "cell_type": "code",
   "execution_count": 29,
   "id": "c1fc19af",
   "metadata": {},
   "outputs": [
    {
     "data": {
      "text/html": [
       "<div>\n",
       "<style scoped>\n",
       "    .dataframe tbody tr th:only-of-type {\n",
       "        vertical-align: middle;\n",
       "    }\n",
       "\n",
       "    .dataframe tbody tr th {\n",
       "        vertical-align: top;\n",
       "    }\n",
       "\n",
       "    .dataframe thead th {\n",
       "        text-align: right;\n",
       "    }\n",
       "</style>\n",
       "<table border=\"1\" class=\"dataframe\">\n",
       "  <thead>\n",
       "    <tr style=\"text-align: right;\">\n",
       "      <th></th>\n",
       "      <th>Country</th>\n",
       "      <th>Reserves</th>\n",
       "      <th>Year</th>\n",
       "    </tr>\n",
       "  </thead>\n",
       "  <tbody>\n",
       "    <tr>\n",
       "      <th>0</th>\n",
       "      <td>Argentina</td>\n",
       "      <td>NaN</td>\n",
       "      <td>1996</td>\n",
       "    </tr>\n",
       "    <tr>\n",
       "      <th>1</th>\n",
       "      <td>Australia</td>\n",
       "      <td>370000.0</td>\n",
       "      <td>1996</td>\n",
       "    </tr>\n",
       "    <tr>\n",
       "      <th>3</th>\n",
       "      <td>Brazil</td>\n",
       "      <td>910.0</td>\n",
       "      <td>1996</td>\n",
       "    </tr>\n",
       "    <tr>\n",
       "      <th>4</th>\n",
       "      <td>Canada</td>\n",
       "      <td>180000.0</td>\n",
       "      <td>1996</td>\n",
       "    </tr>\n",
       "    <tr>\n",
       "      <th>5</th>\n",
       "      <td>Chile</td>\n",
       "      <td>1300000.0</td>\n",
       "      <td>1996</td>\n",
       "    </tr>\n",
       "  </tbody>\n",
       "</table>\n",
       "</div>"
      ],
      "text/plain": [
       "     Country   Reserves  Year\n",
       "0  Argentina        NaN  1996\n",
       "1  Australia   370000.0  1996\n",
       "3     Brazil      910.0  1996\n",
       "4     Canada   180000.0  1996\n",
       "5      Chile  1300000.0  1996"
      ]
     },
     "execution_count": 29,
     "metadata": {},
     "output_type": "execute_result"
    }
   ],
   "source": [
    "# Keep only year value\n",
    "final_df['Year'] = final_df['Year'].dt.strftime('%Y')\n",
    "final_df.head()"
   ]
  },
  {
   "cell_type": "code",
   "execution_count": 30,
   "id": "fd92f7f5",
   "metadata": {},
   "outputs": [],
   "source": [
    "# Save to csv file\n",
    "final_df.to_csv('df_lithium.csv', index = False)"
   ]
  },
  {
   "cell_type": "code",
   "execution_count": 31,
   "id": "b97cd804",
   "metadata": {},
   "outputs": [
    {
     "data": {
      "text/html": [
       "<div>\n",
       "<style scoped>\n",
       "    .dataframe tbody tr th:only-of-type {\n",
       "        vertical-align: middle;\n",
       "    }\n",
       "\n",
       "    .dataframe tbody tr th {\n",
       "        vertical-align: top;\n",
       "    }\n",
       "\n",
       "    .dataframe thead th {\n",
       "        text-align: right;\n",
       "    }\n",
       "</style>\n",
       "<table border=\"1\" class=\"dataframe\">\n",
       "  <thead>\n",
       "    <tr style=\"text-align: right;\">\n",
       "      <th>Country</th>\n",
       "      <th>Argentina</th>\n",
       "      <th>Australia</th>\n",
       "      <th>Brazil</th>\n",
       "      <th>Canada</th>\n",
       "      <th>Chile</th>\n",
       "      <th>China</th>\n",
       "      <th>Portugal</th>\n",
       "      <th>United States</th>\n",
       "      <th>Zimbabwe</th>\n",
       "    </tr>\n",
       "    <tr>\n",
       "      <th>Year</th>\n",
       "      <th></th>\n",
       "      <th></th>\n",
       "      <th></th>\n",
       "      <th></th>\n",
       "      <th></th>\n",
       "      <th></th>\n",
       "      <th></th>\n",
       "      <th></th>\n",
       "      <th></th>\n",
       "    </tr>\n",
       "  </thead>\n",
       "  <tbody>\n",
       "    <tr>\n",
       "      <th>1996</th>\n",
       "      <td>NaN</td>\n",
       "      <td>370000.0</td>\n",
       "      <td>910.0</td>\n",
       "      <td>180000.0</td>\n",
       "      <td>1300000.0</td>\n",
       "      <td>NaN</td>\n",
       "      <td>NaN</td>\n",
       "      <td>340000.0</td>\n",
       "      <td>23000.0</td>\n",
       "    </tr>\n",
       "    <tr>\n",
       "      <th>1997</th>\n",
       "      <td>NaN</td>\n",
       "      <td>150000.0</td>\n",
       "      <td>910.0</td>\n",
       "      <td>180000.0</td>\n",
       "      <td>1300000.0</td>\n",
       "      <td>NaN</td>\n",
       "      <td>NaN</td>\n",
       "      <td>340000.0</td>\n",
       "      <td>23000.0</td>\n",
       "    </tr>\n",
       "    <tr>\n",
       "      <th>1998</th>\n",
       "      <td>NaN</td>\n",
       "      <td>150000.0</td>\n",
       "      <td>910.0</td>\n",
       "      <td>180000.0</td>\n",
       "      <td>3000000.0</td>\n",
       "      <td>NaN</td>\n",
       "      <td>NaN</td>\n",
       "      <td>340000.0</td>\n",
       "      <td>23000.0</td>\n",
       "    </tr>\n",
       "    <tr>\n",
       "      <th>1999</th>\n",
       "      <td>NaN</td>\n",
       "      <td>150000.0</td>\n",
       "      <td>910.0</td>\n",
       "      <td>180000.0</td>\n",
       "      <td>3000000.0</td>\n",
       "      <td>NaN</td>\n",
       "      <td>NaN</td>\n",
       "      <td>38000.0</td>\n",
       "      <td>23000.0</td>\n",
       "    </tr>\n",
       "    <tr>\n",
       "      <th>2000</th>\n",
       "      <td>NaN</td>\n",
       "      <td>150000.0</td>\n",
       "      <td>910.0</td>\n",
       "      <td>180000.0</td>\n",
       "      <td>3000000.0</td>\n",
       "      <td>NaN</td>\n",
       "      <td>NaN</td>\n",
       "      <td>38000.0</td>\n",
       "      <td>23000.0</td>\n",
       "    </tr>\n",
       "  </tbody>\n",
       "</table>\n",
       "</div>"
      ],
      "text/plain": [
       "Country  Argentina  Australia  Brazil    Canada      Chile  China  Portugal  \\\n",
       "Year                                                                          \n",
       "1996           NaN   370000.0   910.0  180000.0  1300000.0    NaN       NaN   \n",
       "1997           NaN   150000.0   910.0  180000.0  1300000.0    NaN       NaN   \n",
       "1998           NaN   150000.0   910.0  180000.0  3000000.0    NaN       NaN   \n",
       "1999           NaN   150000.0   910.0  180000.0  3000000.0    NaN       NaN   \n",
       "2000           NaN   150000.0   910.0  180000.0  3000000.0    NaN       NaN   \n",
       "\n",
       "Country  United States  Zimbabwe  \n",
       "Year                              \n",
       "1996          340000.0   23000.0  \n",
       "1997          340000.0   23000.0  \n",
       "1998          340000.0   23000.0  \n",
       "1999           38000.0   23000.0  \n",
       "2000           38000.0   23000.0  "
      ]
     },
     "execution_count": 31,
     "metadata": {},
     "output_type": "execute_result"
    }
   ],
   "source": [
    "# Transform the data\n",
    "plot_df = final_df.pivot_table(values = 'Reserves',index = ['Year'], columns = 'Country')\n",
    "plot_df.head()"
   ]
  },
  {
   "cell_type": "code",
   "execution_count": 32,
   "id": "c43ea75e",
   "metadata": {},
   "outputs": [
    {
     "data": {
      "image/png": "[encoded data removed]",
      "text/plain": [
       "<Figure size 1080x432 with 1 Axes>"
      ]
     },
     "metadata": {},
     "output_type": "display_data"
    }
   ],
   "source": [
    "# Create stacked bar chart\n",
    "sns.set_style('darkgrid')\n",
    "sns.set(rc = {'figure.figsize':(15,6)})\n",
    "plot_df.plot(kind = 'bar', stacked = True, color = my_palette)\n",
    "\n",
    "# Labels\n",
    "plt.title('Lithium Reserves by Country (1996-2023)', fontsize = 14)\n",
    "plt.ylabel('Reserves (tonnes)', fontsize = 12)\n",
    "plt.xlabel('Year', fontsize = 12)\n",
    "plt.show()"
   ]
  },
  {
   "cell_type": "code",
   "execution_count": 33,
   "id": "8b0ff87c",
   "metadata": {},
   "outputs": [],
   "source": [
    "# Set parameters for bar chart race\n",
    "bcr.bar_chart_race(df = plot_df, \n",
    "                   n_bars = 9, \n",
    "                   sort = 'desc',\n",
    "                   title = 'Lithium Reserves by Country (1996-2023)',\n",
    "                   period_length = 450,  \n",
    "                   period_label = {'x': .98, 'y': .3, 'ha': 'right', 'va': 'center'}, \n",
    "                   period_summary_func = lambda v, r: {'x': .98, 'y': .2, \n",
    "                                          's': f'Total Reserves (tonnes): {v.sum():,.0f}', \n",
    "                                          'ha': 'right', 'size': 8},   \n",
    "                   bar_size = 0.7,\n",
    "                   filename = 'lithium.mp4')"
   ]
  },
  {
   "cell_type": "code",
   "execution_count": null,
   "id": "350beaa7",
   "metadata": {},
   "outputs": [],
   "source": []
  }
 ],
 "metadata": {
  "kernelspec": {
   "display_name": "Python 3 (ipykernel)",
   "language": "python",
   "name": "python3"
  },
  "language_info": {
   "codemirror_mode": {
    "name": "ipython",
    "version": 3
   },
   "file_extension": ".py",
   "mimetype": "text/x-python",
   "name": "python",
   "nbconvert_exporter": "python",
   "pygments_lexer": "ipython3",
   "version": "3.8.8"
  }
 },
 "nbformat": 4,
 "nbformat_minor": 5
}
